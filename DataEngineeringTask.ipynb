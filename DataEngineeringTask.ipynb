{
 "cells": [
  {
   "cell_type": "code",
   "execution_count": 49,
   "id": "complicated-green",
   "metadata": {
    "ExecuteTime": {
     "end_time": "2021-03-25T11:08:04.643348Z",
     "start_time": "2021-03-25T11:08:04.621346Z"
    }
   },
   "outputs": [],
   "source": [
    "\n",
    "# By Alberto Diaz Durana\n",
    "# adiazdurana@gmail.com\n",
    "# 25.03.2021\n",
    "\n",
    "# Assignment:  https://gist.github.com/maxjakob/f6670bfbe7f3c38efb8df46efdf4ca27"
   ]
  },
  {
   "cell_type": "code",
   "execution_count": 50,
   "id": "minus-transcription",
   "metadata": {
    "ExecuteTime": {
     "end_time": "2021-03-25T11:08:05.696354Z",
     "start_time": "2021-03-25T11:08:04.651343Z"
    }
   },
   "outputs": [],
   "source": [
    "import pandas as pd\n",
    "import numpy as np\n",
    "import requests\n",
    "\n",
    "r = requests.get('https://raw.githubusercontent.com/localytics/data-viz-challenge/master/data.json')\n",
    "\n",
    "j = r.json()"
   ]
  },
  {
   "cell_type": "code",
   "execution_count": 51,
   "id": "colonial-response",
   "metadata": {
    "ExecuteTime": {
     "end_time": "2021-03-25T11:08:05.712343Z",
     "start_time": "2021-03-25T11:08:05.701344Z"
    },
    "scrolled": true
   },
   "outputs": [],
   "source": [
    "#j"
   ]
  },
  {
   "cell_type": "markdown",
   "id": "matched-timer",
   "metadata": {},
   "source": [
    "This is a Nested JSON structure. This means that each key can have more keys associated with it. So we need to parse it!"
   ]
  },
  {
   "cell_type": "code",
   "execution_count": 52,
   "id": "interpreted-humanitarian",
   "metadata": {
    "ExecuteTime": {
     "end_time": "2021-03-25T11:08:05.776342Z",
     "start_time": "2021-03-25T11:08:05.722341Z"
    }
   },
   "outputs": [],
   "source": [
    "nested_json = j"
   ]
  },
  {
   "cell_type": "markdown",
   "id": "fifteen-action",
   "metadata": {},
   "source": [
    "Next, we will flatten the JSON using the normalize function. We will pass in the complete data for now and see how it looks."
   ]
  },
  {
   "cell_type": "code",
   "execution_count": 53,
   "id": "personalized-percentage",
   "metadata": {
    "ExecuteTime": {
     "end_time": "2021-03-25T11:08:09.450882Z",
     "start_time": "2021-03-25T11:08:05.783341Z"
    }
   },
   "outputs": [],
   "source": [
    "from pandas import json_normalize\n",
    "df = json_normalize(nested_json['data'])"
   ]
  },
  {
   "cell_type": "code",
   "execution_count": 54,
   "id": "proper-produce",
   "metadata": {
    "ExecuteTime": {
     "end_time": "2021-03-25T11:08:09.482876Z",
     "start_time": "2021-03-25T11:08:09.458878Z"
    }
   },
   "outputs": [],
   "source": [
    "#df.head()"
   ]
  },
  {
   "cell_type": "code",
   "execution_count": 55,
   "id": "secure-barrel",
   "metadata": {
    "ExecuteTime": {
     "end_time": "2021-03-25T11:08:09.544875Z",
     "start_time": "2021-03-25T11:08:09.492879Z"
    }
   },
   "outputs": [],
   "source": [
    "#Only entries of female (\"gender\": \"F\") and Californian (\"state\": \"CA\") users should be considered.\n",
    "\n",
    "df = df[(df['gender']=='F') & (df['location.state']=='CA')].reset_index(drop=True)"
   ]
  },
  {
   "cell_type": "code",
   "execution_count": 56,
   "id": "understanding-authentication",
   "metadata": {
    "ExecuteTime": {
     "end_time": "2021-03-25T11:08:09.591878Z",
     "start_time": "2021-03-25T11:08:09.559880Z"
    }
   },
   "outputs": [],
   "source": [
    "# date has the format of YYYY-MM-DD and is based on client_time.\n",
    "\n",
    "df['date'] = pd.to_datetime(df.client_time, unit='s', errors='coerce')\n",
    "#df['date'].head()"
   ]
  },
  {
   "cell_type": "code",
   "execution_count": 57,
   "id": "official-kennedy",
   "metadata": {
    "ExecuteTime": {
     "end_time": "2021-03-25T11:08:09.639878Z",
     "start_time": "2021-03-25T11:08:09.609878Z"
    }
   },
   "outputs": [],
   "source": [
    "df['date'] = pd.to_datetime(df['date']).dt.date\n",
    "#df['date'].head()"
   ]
  },
  {
   "cell_type": "code",
   "execution_count": 58,
   "id": "mysterious-stream",
   "metadata": {
    "ExecuteTime": {
     "end_time": "2021-03-25T11:08:09.670877Z",
     "start_time": "2021-03-25T11:08:09.651878Z"
    }
   },
   "outputs": [],
   "source": [
    "# count is the count of entries.\n",
    "\n",
    "df['count'] = np.arange(1, len(df)+1)"
   ]
  },
  {
   "cell_type": "code",
   "execution_count": 68,
   "id": "designing-liberal",
   "metadata": {
    "ExecuteTime": {
     "end_time": "2021-03-25T11:11:41.214785Z",
     "start_time": "2021-03-25T11:11:41.194787Z"
    }
   },
   "outputs": [],
   "source": [
    "#df.head()"
   ]
  },
  {
   "cell_type": "code",
   "execution_count": 60,
   "id": "timely-mobility",
   "metadata": {
    "ExecuteTime": {
     "end_time": "2021-03-25T11:08:09.797877Z",
     "start_time": "2021-03-25T11:08:09.762879Z"
    }
   },
   "outputs": [],
   "source": [
    "# amount_sum is the sum the values in the amount field.\n",
    "\n",
    "df['amount_sum'] = df['amount'].sum()"
   ]
  },
  {
   "cell_type": "code",
   "execution_count": 61,
   "id": "handmade-colors",
   "metadata": {
    "ExecuteTime": {
     "end_time": "2021-03-25T11:08:09.829875Z",
     "start_time": "2021-03-25T11:08:09.807876Z"
    }
   },
   "outputs": [],
   "source": [
    "# Output the following columns: age, device, date, count, amount_sum.\n",
    "\n",
    "total_events = df.filter(['age', 'device', 'date', 'count', 'amount_sum'], axis=1)"
   ]
  },
  {
   "cell_type": "code",
   "execution_count": 62,
   "id": "statistical-arizona",
   "metadata": {
    "ExecuteTime": {
     "end_time": "2021-03-25T11:08:09.860880Z",
     "start_time": "2021-03-25T11:08:09.838880Z"
    },
    "scrolled": true
   },
   "outputs": [],
   "source": [
    "#total_events.head()"
   ]
  },
  {
   "cell_type": "markdown",
   "id": "found-citation",
   "metadata": {},
   "source": [
    "Now we write the the DataFrame directly into the S3 bucket in AWS"
   ]
  },
  {
   "cell_type": "code",
   "execution_count": 63,
   "id": "traditional-racing",
   "metadata": {
    "ExecuteTime": {
     "end_time": "2021-03-25T11:08:09.893876Z",
     "start_time": "2021-03-25T11:08:09.872878Z"
    }
   },
   "outputs": [],
   "source": [
    "#total_events.to_csv('total_events.csv', sep='\\t')\n",
    "\n",
    "# Copy s3 URI from the bucket\n",
    "bucket_name = 's3://add-total-events/tmp_csv'\n",
    "file_name ='total_events.csv'"
   ]
  },
  {
   "cell_type": "code",
   "execution_count": 64,
   "id": "later-stephen",
   "metadata": {
    "ExecuteTime": {
     "end_time": "2021-03-25T11:08:10.560462Z",
     "start_time": "2021-03-25T11:08:09.909878Z"
    }
   },
   "outputs": [],
   "source": [
    "# Place the file my_secrets in your lib located in the path for your env .conda\\envs\\envADD\\lib\n",
    "# If you want to enter the aws dashboard the login credentials are located in this same file\n",
    "\n",
    "from my_secrets import access_key, secret_access_key\n",
    "\n",
    "import boto3\n",
    "from io import StringIO\n",
    "\n",
    "bucket_name = 'add-total-events'\n",
    "\n",
    "df = total_events\n",
    "\n",
    "csv_buffer = StringIO()\n",
    "df.to_csv(csv_buffer)\n",
    "\n",
    "client = boto3.client('s3',\n",
    "                      aws_access_key_id = access_key,\n",
    "                      aws_secret_access_key = secret_access_key)\n",
    "\n",
    "response = client.put_object(\n",
    "    ACL = 'private',\n",
    "    Body = csv_buffer.getvalue(),\n",
    "    Bucket = bucket_name,\n",
    "    Key = file_name\n",
    "    )\n"
   ]
  },
  {
   "cell_type": "code",
   "execution_count": 65,
   "id": "impossible-antarctica",
   "metadata": {
    "ExecuteTime": {
     "end_time": "2021-03-25T11:08:10.576326Z",
     "start_time": "2021-03-25T11:08:10.565326Z"
    }
   },
   "outputs": [],
   "source": [
    "#response"
   ]
  },
  {
   "cell_type": "code",
   "execution_count": 66,
   "id": "romantic-vietnamese",
   "metadata": {
    "ExecuteTime": {
     "end_time": "2021-03-25T11:08:11.018240Z",
     "start_time": "2021-03-25T11:08:10.582329Z"
    }
   },
   "outputs": [],
   "source": [
    "# to verify we will import the file back to a dataframe\n",
    "from io import BytesIO\n",
    "\n",
    "bucket, filename = bucket_name, file_name\n",
    "\n",
    "s3 = boto3.resource('s3',\n",
    "                      aws_access_key_id = access_key,\n",
    "                      aws_secret_access_key = secret_access_key)\n",
    "\n",
    "obj = s3.Object(bucket, filename)\n",
    "with BytesIO(obj.get()['Body'].read()) as bio:\n",
    "    df_check = pd.read_csv(bio)"
   ]
  },
  {
   "cell_type": "code",
   "execution_count": 67,
   "id": "handled-football",
   "metadata": {
    "ExecuteTime": {
     "end_time": "2021-03-25T11:08:11.050240Z",
     "start_time": "2021-03-25T11:08:11.023239Z"
    }
   },
   "outputs": [
    {
     "name": "stdout",
     "output_type": "stream",
     "text": [
      "The file has been succesfuly pushed to the aws s3 bucket\n",
      "________________________________________________________________________________\n",
      "      Unnamed: 0    age   device        date  count  amount_sum\n",
      "0              0  35-44  android  2014-03-01      1     19657.0\n",
      "1              1    55+  android  2014-03-01      2     19657.0\n",
      "2              2  35-44  android  2014-03-01      3     19657.0\n",
      "3              3  35-44  android  2014-03-01      4     19657.0\n",
      "4              4  45-54  android  2014-03-01      5     19657.0\n",
      "...          ...    ...      ...         ...    ...         ...\n",
      "1320        1320  18-24  android  2014-03-31   1321     19657.0\n",
      "1321        1321  25-34  android  2014-03-31   1322     19657.0\n",
      "1322        1322  25-34  android  2014-03-31   1323     19657.0\n",
      "1323        1323  45-54  android  2014-03-31   1324     19657.0\n",
      "1324        1324  18-24      iOS  2014-03-31   1325     19657.0\n",
      "\n",
      "[1325 rows x 6 columns]\n"
     ]
    }
   ],
   "source": [
    "print('The file has been succesfuly pushed to the aws s3 bucket')\n",
    "print('________________________________________________________________________________')\n",
    "print(df_check)"
   ]
  }
 ],
 "metadata": {
  "kernelspec": {
   "display_name": "Python 3",
   "language": "python",
   "name": "python3"
  },
  "language_info": {
   "codemirror_mode": {
    "name": "ipython",
    "version": 3
   },
   "file_extension": ".py",
   "mimetype": "text/x-python",
   "name": "python",
   "nbconvert_exporter": "python",
   "pygments_lexer": "ipython3",
   "version": "3.8.6"
  },
  "toc": {
   "base_numbering": 1,
   "nav_menu": {},
   "number_sections": true,
   "sideBar": true,
   "skip_h1_title": false,
   "title_cell": "Table of Contents",
   "title_sidebar": "Contents",
   "toc_cell": false,
   "toc_position": {},
   "toc_section_display": true,
   "toc_window_display": false
  },
  "varInspector": {
   "cols": {
    "lenName": 16,
    "lenType": 16,
    "lenVar": 40
   },
   "kernels_config": {
    "python": {
     "delete_cmd_postfix": "",
     "delete_cmd_prefix": "del ",
     "library": "var_list.py",
     "varRefreshCmd": "print(var_dic_list())"
    },
    "r": {
     "delete_cmd_postfix": ") ",
     "delete_cmd_prefix": "rm(",
     "library": "var_list.r",
     "varRefreshCmd": "cat(var_dic_list()) "
    }
   },
   "types_to_exclude": [
    "module",
    "function",
    "builtin_function_or_method",
    "instance",
    "_Feature"
   ],
   "window_display": false
  }
 },
 "nbformat": 4,
 "nbformat_minor": 5
}
